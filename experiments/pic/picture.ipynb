{
 "cells": [
  {
   "cell_type": "code",
   "execution_count": 2,
   "metadata": {},
   "outputs": [],
   "source": [
    "import csv\n",
    "import numpy as np\n",
    "import matplotlib.pyplot as plt\n",
    "import re"
   ]
  },
  {
   "cell_type": "code",
   "execution_count": 3,
   "metadata": {},
   "outputs": [
    {
     "name": "stdout",
     "output_type": "stream",
     "text": [
      "0.100285005569458\n"
     ]
    }
   ],
   "source": [
    "### Energon worst tp1 pp2 opt6.7b\n",
    "\n",
    "### req1 resp1 req2 resp2 ...\n",
    "req_times = []\n",
    "res_times = []\n",
    "\n",
    "with open('logs/energon-worst-tp1-pp2-opt6.7b.log', 'r') as file:\n",
    "    for line in file:\n",
    "        if 'req time' in line:\n",
    "            req_time = re.search(r'req time: (\\d+\\.\\d+)', line).group(1)\n",
    "            req_times.append(float(req_time))\n",
    "        elif 'response time' in line:\n",
    "            res_time = re.search(r'response time: (\\d+\\.\\d+)', line).group(1)\n",
    "            res_times.append(float(res_time))\n",
    "\n",
    "latency = [None]*len(req_times)\n",
    "\n",
    "for i in range(len(req_times)):\n",
    "    latency[i]=res_times[i]-req_times[i]\n",
    "\n",
    "latency.sort()\n",
    "latency=latency[:-5]\n",
    "avg_latency = sum(latency)/len(latency)\n",
    "print(avg_latency)"
   ]
  },
  {
   "cell_type": "code",
   "execution_count": 4,
   "metadata": {},
   "outputs": [
    {
     "name": "stdout",
     "output_type": "stream",
     "text": [
      "0.10165343284606934\n"
     ]
    }
   ],
   "source": [
    "### computron worst sequntial tp2 pp2 opt6.7b 2 models\n",
    "###\n",
    "### req1 resp1 req2 resp2 req1 resp1 ...\n",
    "req_times = []\n",
    "res_times = []\n",
    "\n",
    "with open('logs/worst-seq-2model-tp2-pp2.log', 'r') as file:\n",
    "    for line in file:\n",
    "        if 'req time' in line:\n",
    "            req_time = re.search(r'req time: (\\d+\\.\\d+)', line).group(1)\n",
    "            req_times.append(float(req_time))\n",
    "        elif 'response time' in line:\n",
    "            res_time = re.search(r'response time: (\\d+\\.\\d+)', line).group(1)\n",
    "            res_times.append(float(res_time))\n",
    "\n",
    "latency = [None]*len(req_times)\n",
    "\n",
    "for i in range(len(req_times)):\n",
    "    latency[i]=res_times[i]-req_times[i]\n",
    "\n",
    "latency.sort()\n",
    "latency=latency[:-5]\n",
    "avg_latency = sum(latency)/len(latency)\n",
    "print(avg_latency)"
   ]
  },
  {
   "cell_type": "code",
   "execution_count": 5,
   "metadata": {},
   "outputs": [
    {
     "name": "stdout",
     "output_type": "stream",
     "text": [
      "2.8967270469665527\n"
     ]
    }
   ],
   "source": [
    "### Computron worst tp1 pp2 opt6.7b 2 models\n",
    "### req 1,2,1,2... \n",
    "### resp 1,2,1,2..\n",
    "\n",
    "req_times = []\n",
    "res_times = []\n",
    "\n",
    "with open('logs/worst-tp1-pp2-opt6.7b.log', 'r') as file:\n",
    "    for line in file:\n",
    "        if 'req time' in line:\n",
    "            req_time = re.search(r'req time: (\\d+\\.\\d+)', line).group(1)\n",
    "            req_times.append(float(req_time))\n",
    "        elif 'response time' in line:\n",
    "            res_time = re.search(r'response time: (\\d+\\.\\d+)', line).group(1)\n",
    "            # print(res_time)\n",
    "            res_times.append(float(res_time))\n",
    "\n",
    "latency = [None]*len(req_times)\n",
    "\n",
    "for i in range(len(req_times)):\n",
    "    latency[i]=res_times[i]-req_times[i]\n",
    "\n",
    "latency.sort()\n",
    "latency=latency[:-5]\n",
    "avg_latency = sum(latency)/len(latency)\n",
    "print(avg_latency)"
   ]
  },
  {
   "cell_type": "code",
   "execution_count": 6,
   "metadata": {},
   "outputs": [
    {
     "name": "stdout",
     "output_type": "stream",
     "text": [
      "0.6285515882201114\n"
     ]
    }
   ],
   "source": [
    "### Gamma process\n",
    "\n",
    "# model 2 tp2 pp2 30B maxload=1\n",
    "\n",
    "req_times = {}\n",
    "res_times = {}\n",
    "\n",
    "idx=0\n",
    "\n",
    "with open('logs/gamma-tp2-pp2-30B.log', 'r') as file:\n",
    "    for line in file:\n",
    "        if 'req' in line:\n",
    "            match = re.search(r'server req (\\d+) time: (\\d+\\.\\d+)', line)\n",
    "            try:\n",
    "                req_id = match.group(1)\n",
    "                req_time = match.group(2)\n",
    "                req_times[int(req_id)]=float(req_time)\n",
    "                # print(req_time)\n",
    "                idx=max(idx,int(req_id))\n",
    "            except: pass\n",
    "\n",
    "        elif 'response' in line:\n",
    "            match = re.search(r'server response (\\d+) time: (\\d+\\.\\d+)', line)\n",
    "            try:\n",
    "                res_id = match.group(1)\n",
    "                res_time = match.group(2)\n",
    "                res_times[int(res_id)]=float(res_time)\n",
    "                # res_times.append(float(res_time))\n",
    "            except: pass\n",
    "\n",
    "latency = [None]*len(req_times)\n",
    "\n",
    "for i in range(len(req_times)):\n",
    "    # print(i)\n",
    "    # print(req_times[i], res_times[i])\n",
    "    latency[i]=res_times[i]-req_times[i]\n",
    "\n",
    "latency.sort()\n",
    "latency=latency[:-5]\n",
    "avg_latency = sum(latency)/len(latency)\n",
    "print(avg_latency)"
   ]
  },
  {
   "cell_type": "code",
   "execution_count": 17,
   "metadata": {},
   "outputs": [
    {
     "name": "stdout",
     "output_type": "stream",
     "text": [
      "0.8038158714771271\n"
     ]
    }
   ],
   "source": [
    "### Gamma process\n",
    "\n",
    "# model 3 tp2 pp2 30B maxload=2\n",
    "\n",
    "req_times = {}\n",
    "res_times = {}\n",
    "\n",
    "idx=0\n",
    "\n",
    "with open('logs/gamma-tp2-pp2-3model.log', 'r') as file:\n",
    "    for line in file:\n",
    "        if 'req' in line:\n",
    "            match = re.search(r'server req (\\d+) time: (\\d+\\.\\d+)', line)\n",
    "            try:\n",
    "                req_id = match.group(1)\n",
    "                req_time = match.group(2)\n",
    "                req_times[int(req_id)]=float(req_time)\n",
    "                # print(req_time)\n",
    "                idx=max(idx,int(req_id))\n",
    "            except: pass\n",
    "\n",
    "        elif 'response' in line:\n",
    "            match = re.search(r'server response (\\d+) time: (\\d+\\.\\d+)', line)\n",
    "            try:\n",
    "                res_id = match.group(1)\n",
    "                res_time = match.group(2)\n",
    "                res_times[int(res_id)]=float(res_time)\n",
    "                # res_times.append(float(res_time))\n",
    "            except: pass\n",
    "\n",
    "latency = [None]*len(req_times)\n",
    "\n",
    "for i in range(len(req_times)):\n",
    "    # print(i)\n",
    "    # print(req_times[i], res_times[i])\n",
    "    latency[i]=res_times[i]-req_times[i]\n",
    "\n",
    "latency.sort()\n",
    "latency=latency[:-3]\n",
    "avg_latency = sum(latency)/len(latency)\n",
    "print(avg_latency)"
   ]
  },
  {
   "cell_type": "code",
   "execution_count": 12,
   "metadata": {},
   "outputs": [
    {
     "name": "stdout",
     "output_type": "stream",
     "text": [
      "0.07619059287895591\n"
     ]
    }
   ],
   "source": [
    "### Gamma process\n",
    "\n",
    "# model 3 tp2 pp2 30B maxload=2\n",
    "\n",
    "req_times = {}\n",
    "res_times = {}\n",
    "\n",
    "idx=0\n",
    "\n",
    "with open('logs/gamma-tp2-pp2-30B-model1-base.log', 'r') as file:\n",
    "    for line in file:\n",
    "        if 'req' in line:\n",
    "            match = re.search(r'server req (\\d+) time: (\\d+\\.\\d+)', line)\n",
    "            try:\n",
    "                req_id = match.group(1)\n",
    "                req_time = match.group(2)\n",
    "                req_times[int(req_id)]=float(req_time)\n",
    "                # print(req_time)\n",
    "                idx=max(idx,int(req_id))\n",
    "            except: pass\n",
    "\n",
    "        elif 'response' in line:\n",
    "            match = re.search(r'server response (\\d+) time: (\\d+\\.\\d+)', line)\n",
    "            try:\n",
    "                res_id = match.group(1)\n",
    "                res_time = match.group(2)\n",
    "                res_times[int(res_id)]=float(res_time)\n",
    "                # res_times.append(float(res_time))\n",
    "            except: pass\n",
    "\n",
    "latency = [None]*len(req_times)\n",
    "\n",
    "for i in range(len(req_times)):\n",
    "    # print(i)\n",
    "    # print(req_times[i], res_times[i])\n",
    "    latency[i]=res_times[i]-req_times[i]\n",
    "\n",
    "latency.sort()\n",
    "latency=latency[:-2]\n",
    "\n",
    "avg_latency = sum(latency)/len(latency)\n",
    "print(avg_latency)"
   ]
  }
 ],
 "metadata": {
  "kernelspec": {
   "display_name": "267",
   "language": "python",
   "name": "python3"
  },
  "language_info": {
   "codemirror_mode": {
    "name": "ipython",
    "version": 3
   },
   "file_extension": ".py",
   "mimetype": "text/x-python",
   "name": "python",
   "nbconvert_exporter": "python",
   "pygments_lexer": "ipython3",
   "version": "3.9.16"
  },
  "orig_nbformat": 4
 },
 "nbformat": 4,
 "nbformat_minor": 2
}
